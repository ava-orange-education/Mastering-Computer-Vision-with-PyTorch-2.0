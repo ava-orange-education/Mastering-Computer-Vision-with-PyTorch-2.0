{
  "nbformat": 4,
  "nbformat_minor": 0,
  "metadata": {
    "colab": {
      "provenance": [],
      "gpuType": "T4"
    },
    "kernelspec": {
      "name": "python3",
      "display_name": "Python 3"
    },
    "language_info": {
      "name": "python"
    },
    "accelerator": "GPU"
  },
  "cells": [
    {
      "cell_type": "markdown",
      "source": [
        "# Virtual Environment Setup"
      ],
      "metadata": {
        "id": "Pz5gDokACbqH"
      }
    },
    {
      "cell_type": "code",
      "execution_count": 1,
      "metadata": {
        "colab": {
          "base_uri": "https://localhost:8080/"
        },
        "id": "NhPAWzt-BxnL",
        "outputId": "e39534c0-754c-47e0-8f40-517f328b8fd5"
      },
      "outputs": [
        {
          "output_type": "stream",
          "name": "stdout",
          "text": [
            "Collecting virtualenv\n",
            "  Downloading virtualenv-20.28.0-py3-none-any.whl.metadata (4.4 kB)\n",
            "Collecting distlib<1,>=0.3.7 (from virtualenv)\n",
            "  Downloading distlib-0.3.9-py2.py3-none-any.whl.metadata (5.2 kB)\n",
            "Requirement already satisfied: filelock<4,>=3.12.2 in /usr/local/lib/python3.10/dist-packages (from virtualenv) (3.16.1)\n",
            "Requirement already satisfied: platformdirs<5,>=3.9.1 in /usr/local/lib/python3.10/dist-packages (from virtualenv) (4.3.6)\n",
            "Downloading virtualenv-20.28.0-py3-none-any.whl (4.3 MB)\n",
            "\u001b[2K   \u001b[90m━━━━━━━━━━━━━━━━━━━━━━━━━━━━━━━━━━━━━━━━\u001b[0m \u001b[32m4.3/4.3 MB\u001b[0m \u001b[31m53.9 MB/s\u001b[0m eta \u001b[36m0:00:00\u001b[0m\n",
            "\u001b[?25hDownloading distlib-0.3.9-py2.py3-none-any.whl (468 kB)\n",
            "\u001b[2K   \u001b[90m━━━━━━━━━━━━━━━━━━━━━━━━━━━━━━━━━━━━━━━━\u001b[0m \u001b[32m469.0/469.0 kB\u001b[0m \u001b[31m20.6 MB/s\u001b[0m eta \u001b[36m0:00:00\u001b[0m\n",
            "\u001b[?25hInstalling collected packages: distlib, virtualenv\n",
            "Successfully installed distlib-0.3.9 virtualenv-20.28.0\n"
          ]
        }
      ],
      "source": [
        "# Install virtualenv to create a virtual environment\n",
        "!pip install virtualenv"
      ]
    },
    {
      "cell_type": "code",
      "source": [
        "# Create a virtual environment called pytorch_env\n",
        "!virtualenv pytorch_env"
      ],
      "metadata": {
        "colab": {
          "base_uri": "https://localhost:8080/"
        },
        "id": "QwGCcoEnB627",
        "outputId": "96c17112-cdf4-46f8-b552-d0cf751cd4e6"
      },
      "execution_count": 2,
      "outputs": [
        {
          "output_type": "stream",
          "name": "stdout",
          "text": [
            "created virtual environment CPython3.10.12.final.0-64 in 1280ms\n",
            "  creator CPython3Posix(dest=/content/pytorch_env, clear=False, no_vcs_ignore=False, global=False)\n",
            "  seeder FromAppData(download=False, pip=bundle, setuptools=bundle, wheel=bundle, via=copy, app_data_dir=/root/.local/share/virtualenv)\n",
            "    added seed packages: pip==24.3.1, setuptools==75.6.0, wheel==0.45.1\n",
            "  activators BashActivator,CShellActivator,FishActivator,NushellActivator,PowerShellActivator,PythonActivator\n"
          ]
        }
      ]
    },
    {
      "cell_type": "code",
      "source": [
        "# Activate Virtual Environemnt\n",
        "!source pytorch_env/bin/activate"
      ],
      "metadata": {
        "id": "ajfcrObXB_Oj"
      },
      "execution_count": 3,
      "outputs": []
    },
    {
      "cell_type": "markdown",
      "source": [
        "# Installing PyTorch in the virutal environemnt"
      ],
      "metadata": {
        "id": "YlBYhz8fCnMH"
      }
    },
    {
      "cell_type": "code",
      "source": [
        "!pip install torch torchvision torchaudio"
      ],
      "metadata": {
        "colab": {
          "base_uri": "https://localhost:8080/"
        },
        "id": "rjBSG7y7CBK8",
        "outputId": "8d9692fc-1904-4f10-8d90-93824ef6912f"
      },
      "execution_count": 4,
      "outputs": [
        {
          "output_type": "stream",
          "name": "stdout",
          "text": [
            "Requirement already satisfied: torch in /usr/local/lib/python3.10/dist-packages (2.5.1+cu121)\n",
            "Requirement already satisfied: torchvision in /usr/local/lib/python3.10/dist-packages (0.20.1+cu121)\n",
            "Requirement already satisfied: torchaudio in /usr/local/lib/python3.10/dist-packages (2.5.1+cu121)\n",
            "Requirement already satisfied: filelock in /usr/local/lib/python3.10/dist-packages (from torch) (3.16.1)\n",
            "Requirement already satisfied: typing-extensions>=4.8.0 in /usr/local/lib/python3.10/dist-packages (from torch) (4.12.2)\n",
            "Requirement already satisfied: networkx in /usr/local/lib/python3.10/dist-packages (from torch) (3.4.2)\n",
            "Requirement already satisfied: jinja2 in /usr/local/lib/python3.10/dist-packages (from torch) (3.1.4)\n",
            "Requirement already satisfied: fsspec in /usr/local/lib/python3.10/dist-packages (from torch) (2024.10.0)\n",
            "Requirement already satisfied: sympy==1.13.1 in /usr/local/lib/python3.10/dist-packages (from torch) (1.13.1)\n",
            "Requirement already satisfied: mpmath<1.4,>=1.1.0 in /usr/local/lib/python3.10/dist-packages (from sympy==1.13.1->torch) (1.3.0)\n",
            "Requirement already satisfied: numpy in /usr/local/lib/python3.10/dist-packages (from torchvision) (1.26.4)\n",
            "Requirement already satisfied: pillow!=8.3.*,>=5.3.0 in /usr/local/lib/python3.10/dist-packages (from torchvision) (11.0.0)\n",
            "Requirement already satisfied: MarkupSafe>=2.0 in /usr/local/lib/python3.10/dist-packages (from jinja2->torch) (3.0.2)\n"
          ]
        }
      ]
    },
    {
      "cell_type": "markdown",
      "source": [
        "# Code Examples from Chapter 2 of the Book"
      ],
      "metadata": {
        "id": "-YZssrZfDFLi"
      }
    },
    {
      "cell_type": "code",
      "source": [
        "# PyTorch tensor example\n",
        "\n",
        "import torch\n",
        "\n",
        "# A scalar (0D tensor)\n",
        "scalar = torch.tensor(5)\n",
        "print(\"A scalar (0D tensor): \", scalar)\n",
        "\n",
        "# A vector (1D tensor)\n",
        "vector = torch.tensor([1, 2, 3, 4])\n",
        "print(\"A vector (1D tensor): \", vector)\n",
        "\n",
        "# A matrix (2D tensor)\n",
        "matrix = torch.tensor([[1, 2], [3, 4], [5, 6]])\n",
        "print(\"A matrix (2D tensor): \", matrix)"
      ],
      "metadata": {
        "colab": {
          "base_uri": "https://localhost:8080/"
        },
        "id": "9A-ts24JCMht",
        "outputId": "a2dbab89-c224-41ac-9ad0-6035f73a892e"
      },
      "execution_count": 5,
      "outputs": [
        {
          "output_type": "stream",
          "name": "stdout",
          "text": [
            "A scalar (0D tensor):  tensor(5)\n",
            "A vector (1D tensor):  tensor([1, 2, 3, 4])\n",
            "A matrix (2D tensor):  tensor([[1, 2],\n",
            "        [3, 4],\n",
            "        [5, 6]])\n"
          ]
        }
      ]
    },
    {
      "cell_type": "code",
      "source": [
        "# Foundation of complex architecture example\n",
        "\n",
        "# A simple tensor operation: Element-wise addition\n",
        "tensor_a = torch.tensor([1, 2, 3])\n",
        "tensor_b = torch.tensor([4, 5, 6])\n",
        "result = tensor_a + tensor_b\n",
        "print(result)  # Outputs: tensor([5, 7, 9])\n"
      ],
      "metadata": {
        "colab": {
          "base_uri": "https://localhost:8080/"
        },
        "id": "cdwtR7T6CZib",
        "outputId": "f7d7dde1-e9e7-41d8-a886-2fd5c1ab34d2"
      },
      "execution_count": 6,
      "outputs": [
        {
          "output_type": "stream",
          "name": "stdout",
          "text": [
            "tensor([5, 7, 9])\n"
          ]
        }
      ]
    },
    {
      "cell_type": "code",
      "source": [
        "# 0-dimensional tensor: Scalar\n",
        "\n",
        "scalar = torch.tensor(7)\n",
        "print(f\"Scalar tensor: {scalar}, Dimension: {scalar.dim()}\")"
      ],
      "metadata": {
        "id": "6FkG8GTRDJKQ",
        "colab": {
          "base_uri": "https://localhost:8080/"
        },
        "outputId": "e73c462d-df30-4acb-e7df-ecd2442756f9"
      },
      "execution_count": 7,
      "outputs": [
        {
          "output_type": "stream",
          "name": "stdout",
          "text": [
            "Scalar tensor: 7, Dimension: 0\n"
          ]
        }
      ]
    },
    {
      "cell_type": "code",
      "source": [
        "# 1-dimensional tensor: Vector\n",
        "\n",
        "vector = torch.tensor([1, 2, 3, 4])\n",
        "print(f\"Vector tensor: {vector}, Dimension: {vector.dim()}\")"
      ],
      "metadata": {
        "id": "MM4SPXLEENod",
        "colab": {
          "base_uri": "https://localhost:8080/"
        },
        "outputId": "d26cf0ad-f02f-4375-e942-30476ffd4d7a"
      },
      "execution_count": 8,
      "outputs": [
        {
          "output_type": "stream",
          "name": "stdout",
          "text": [
            "Vector tensor: tensor([1, 2, 3, 4]), Dimension: 1\n"
          ]
        }
      ]
    },
    {
      "cell_type": "code",
      "source": [
        "# 2-dimensional tensor: Matrix\n",
        "matrix = torch.tensor([[1, 2], [3, 4], [5, 6]])\n",
        "print(f\"Matrix tensor: {matrix}, Dimension: {matrix.dim()}\")"
      ],
      "metadata": {
        "id": "LGA4XygjEPNr",
        "colab": {
          "base_uri": "https://localhost:8080/"
        },
        "outputId": "18dddd8e-80fe-4a42-bbca-541753459baf"
      },
      "execution_count": 9,
      "outputs": [
        {
          "output_type": "stream",
          "name": "stdout",
          "text": [
            "Matrix tensor: tensor([[1, 2],\n",
            "        [3, 4],\n",
            "        [5, 6]]), Dimension: 2\n"
          ]
        }
      ]
    },
    {
      "cell_type": "code",
      "source": [
        "# N-dimensional tensor: Higher-dimensional entities\n",
        "tensor_3d = torch.tensor([[[1, 2], [3, 4]], [[5, 6], [7, 8]]])\n",
        "print(f\"3D tensor: {tensor_3d}, Dimension: {tensor_3d.dim()}\")"
      ],
      "metadata": {
        "id": "PgHIKQSIEXlt",
        "colab": {
          "base_uri": "https://localhost:8080/"
        },
        "outputId": "6a4e9cd6-dfcc-4253-ea38-d3f97b926206"
      },
      "execution_count": 10,
      "outputs": [
        {
          "output_type": "stream",
          "name": "stdout",
          "text": [
            "3D tensor: tensor([[[1, 2],\n",
            "         [3, 4]],\n",
            "\n",
            "        [[5, 6],\n",
            "         [7, 8]]]), Dimension: 3\n"
          ]
        }
      ]
    },
    {
      "cell_type": "code",
      "source": [
        "# Superpower of PyTorch tensors over NumPy arrays\n",
        "\n",
        "# Moving a tensor to GPU (if available)\n",
        "if torch.cuda.is_available():\n",
        "    tensor_on_gpu = tensor_3d.cuda()\n",
        "    print(\"Tensor moved to GPU:\", tensor_on_gpu.device)\n",
        "else:\n",
        "    print(\"GPU not available.\")"
      ],
      "metadata": {
        "colab": {
          "base_uri": "https://localhost:8080/"
        },
        "id": "kCkzmSGRGAXL",
        "outputId": "cb5dd959-0dca-41d5-8b55-37f800682ddb"
      },
      "execution_count": 14,
      "outputs": [
        {
          "output_type": "stream",
          "name": "stdout",
          "text": [
            "Tensor moved to GPU: cuda:0\n"
          ]
        }
      ]
    },
    {
      "cell_type": "code",
      "source": [
        "# Broadcasting in PyTorch\n",
        "\n",
        "a = torch.tensor([1, 2, 3])       # Shape: (3,)\n",
        "b = torch.tensor([[1], [2], [3]]) # Shape: (3, 1)\n",
        "result = a + b                    # Result shape: (3, 3)\n",
        "print(\"Result: \", result)"
      ],
      "metadata": {
        "colab": {
          "base_uri": "https://localhost:8080/"
        },
        "id": "RIkPCSm-GEj7",
        "outputId": "f1a163fd-5e6b-4bcf-c343-707d7f0f0f2d"
      },
      "execution_count": 13,
      "outputs": [
        {
          "output_type": "stream",
          "name": "stdout",
          "text": [
            "Result:  tensor([[2, 3, 4],\n",
            "        [3, 4, 5],\n",
            "        [4, 5, 6]])\n"
          ]
        }
      ]
    },
    {
      "cell_type": "code",
      "source": [
        "# Arithmetic Operations: Addition\n",
        "\n",
        "a = torch.tensor([1, 2, 3])\n",
        "b = torch.tensor([4, 5, 6])\n",
        "result = torch.add(a, b)\n",
        "print(result)  # Outputs: tensor([5, 7, 9])"
      ],
      "metadata": {
        "colab": {
          "base_uri": "https://localhost:8080/"
        },
        "id": "__CK63hjHsUI",
        "outputId": "0e2aa259-73cd-4dcc-8d52-07ddeeda2f1c"
      },
      "execution_count": 15,
      "outputs": [
        {
          "output_type": "stream",
          "name": "stdout",
          "text": [
            "tensor([5, 7, 9])\n"
          ]
        }
      ]
    },
    {
      "cell_type": "code",
      "source": [
        "# Arithmetic Operations: Substraction\n",
        "\n",
        "a = torch.tensor([1, 2, 3])\n",
        "b = torch.tensor([4, 5, 6])\n",
        "result = torch.sub(a, b)\n",
        "print(result)  # Outputs: tensor([-3, -3, -3])"
      ],
      "metadata": {
        "colab": {
          "base_uri": "https://localhost:8080/"
        },
        "id": "24-AY3RCH-68",
        "outputId": "1ec1a6c6-afc9-4e96-c689-39dffc7aee62"
      },
      "execution_count": 16,
      "outputs": [
        {
          "output_type": "stream",
          "name": "stdout",
          "text": [
            "tensor([-3, -3, -3])\n"
          ]
        }
      ]
    },
    {
      "cell_type": "code",
      "source": [
        "# Arithmetic Operations: Multiplication\n",
        "\n",
        "a = torch.tensor([1, 2, 3])\n",
        "b = torch.tensor([4, 5, 6])\n",
        "result = torch.mul(a, b)\n",
        "print(result)  # Outputs: tensor([ 4, 10, 18])"
      ],
      "metadata": {
        "colab": {
          "base_uri": "https://localhost:8080/"
        },
        "id": "z3-GXXYeH-3c",
        "outputId": "00902c13-b8f6-4ca5-d305-51b2496301da"
      },
      "execution_count": 17,
      "outputs": [
        {
          "output_type": "stream",
          "name": "stdout",
          "text": [
            "tensor([ 4, 10, 18])\n"
          ]
        }
      ]
    },
    {
      "cell_type": "code",
      "source": [
        "# Arithmetic Operations: Division\n",
        "\n",
        "a = torch.tensor([1, 2, 3])\n",
        "b = torch.tensor([4, 5, 6])\n",
        "result = torch.div(b, a)\n",
        "print(result)  # Outputs: tensor([4., 2.5, 2.])"
      ],
      "metadata": {
        "colab": {
          "base_uri": "https://localhost:8080/"
        },
        "id": "rtlPzAurH-yc",
        "outputId": "91809937-b5a1-4f43-f584-91f19fffe6ce"
      },
      "execution_count": 18,
      "outputs": [
        {
          "output_type": "stream",
          "name": "stdout",
          "text": [
            "tensor([4.0000, 2.5000, 2.0000])\n"
          ]
        }
      ]
    },
    {
      "cell_type": "code",
      "source": [
        "# Matric Operations: Multiplication\n",
        "\n",
        "A = torch.tensor([[1, 2], [3, 4]])\n",
        "B = torch.tensor([[2, 0], [1, 3]])\n",
        "result = torch.matmul(A, B)\n",
        "print(result)  # Outputs: tensor([[ 4,  6], [10, 12]])"
      ],
      "metadata": {
        "colab": {
          "base_uri": "https://localhost:8080/"
        },
        "id": "n2DX4GRWH-uc",
        "outputId": "86be523d-8658-4ed7-c37b-a63989bd1f5c"
      },
      "execution_count": 19,
      "outputs": [
        {
          "output_type": "stream",
          "name": "stdout",
          "text": [
            "tensor([[ 4,  6],\n",
            "        [10, 12]])\n"
          ]
        }
      ]
    },
    {
      "cell_type": "code",
      "source": [
        "# Matric Operations: Transpose\n",
        "\n",
        "matrix = torch.tensor([[1, 2, 3], [4, 5, 6]])\n",
        "transposed = torch.t(matrix)\n",
        "print(transposed)  # Outputs: tensor([[1, 4], [2, 5], [3, 6]])"
      ],
      "metadata": {
        "colab": {
          "base_uri": "https://localhost:8080/"
        },
        "id": "pVjG0ztNH-o8",
        "outputId": "e43a5470-45de-4151-90a8-d41202c89d39"
      },
      "execution_count": 20,
      "outputs": [
        {
          "output_type": "stream",
          "name": "stdout",
          "text": [
            "tensor([[1, 4],\n",
            "        [2, 5],\n",
            "        [3, 6]])\n"
          ]
        }
      ]
    },
    {
      "cell_type": "code",
      "source": [
        "# Reshaping Operations: View and Reshape\n",
        "\n",
        "# Original tensor\n",
        "tensor = torch.tensor([1, 2, 3, 4, 5, 6])\n",
        "\n",
        "# Using view\n",
        "reshaped_view = tensor.view(2, 3)\n",
        "print(\"View:\", reshaped_view)  # Outputs: tensor([[1, 2, 3], [4, 5, 6]])\n",
        "\n",
        "# Using reshape\n",
        "reshaped_reshape = tensor.reshape(2, 3)\n",
        "print(\"Reshaped:\", reshaped_reshape)  # Outputs: tensor([[1, 2, 3], [4, 5, 6]])"
      ],
      "metadata": {
        "colab": {
          "base_uri": "https://localhost:8080/"
        },
        "id": "mWUESrtSH-gU",
        "outputId": "1ca9aa03-fd25-44b3-f969-4b6b98119466"
      },
      "execution_count": 22,
      "outputs": [
        {
          "output_type": "stream",
          "name": "stdout",
          "text": [
            "View: tensor([[1, 2, 3],\n",
            "        [4, 5, 6]])\n",
            "Reshaped: tensor([[1, 2, 3],\n",
            "        [4, 5, 6]])\n"
          ]
        }
      ]
    },
    {
      "cell_type": "code",
      "source": [
        "# Reshaping Operations: Squeeze and Unsqueeze\n",
        "\n",
        "tensor = torch.tensor([[[1, 2, 3]]])\n",
        "squeezed = tensor.squeeze()\n",
        "print(squeezed.dim())  # Outputs: 1"
      ],
      "metadata": {
        "colab": {
          "base_uri": "https://localhost:8080/"
        },
        "id": "iqkjH4YGH-Us",
        "outputId": "a2f06447-21f3-4877-b9ee-2e91666aab3c"
      },
      "execution_count": 23,
      "outputs": [
        {
          "output_type": "stream",
          "name": "stdout",
          "text": [
            "1\n"
          ]
        }
      ]
    },
    {
      "cell_type": "code",
      "source": [
        "# The Dynamic Nature of Compute Graphs\n",
        "\n",
        "# PyTorch\n",
        "import torch\n",
        "\n",
        "a = torch.tensor(2.0, requires_grad=True)\n",
        "b = torch.tensor(3.0, requires_grad=True)\n",
        "c = a + b\n",
        "c.backward() # Gradients are computed here\n",
        "print(a.grad) # Outputs: 1.0 (because dc/da = 1)\n"
      ],
      "metadata": {
        "colab": {
          "base_uri": "https://localhost:8080/"
        },
        "id": "gc2QO7A1H-AM",
        "outputId": "0dad119f-0973-4a1b-d126-5e7a5fea3772"
      },
      "execution_count": 24,
      "outputs": [
        {
          "output_type": "stream",
          "name": "stdout",
          "text": [
            "tensor(1.)\n"
          ]
        }
      ]
    },
    {
      "cell_type": "code",
      "source": [
        "# Nodes and Edges in Computational Graphs\n",
        "\n",
        "x = torch.tensor(2.0, requires_grad=True)\n",
        "y = x ** 2\n",
        "z = y * 3"
      ],
      "metadata": {
        "id": "TWg2gXrwJvSW"
      },
      "execution_count": 29,
      "outputs": []
    },
    {
      "cell_type": "code",
      "source": [
        "# Autograd and Backpropagation\n",
        "\n",
        "z.backward()\n",
        "print(x.grad) # Outputs: 12.0 (because dz/dx = 2*x*3 for x=2)"
      ],
      "metadata": {
        "colab": {
          "base_uri": "https://localhost:8080/"
        },
        "id": "w0AyUxUCJ1iX",
        "outputId": "af28cddc-f267-452c-af1d-4daaafba6009"
      },
      "execution_count": 30,
      "outputs": [
        {
          "output_type": "stream",
          "name": "stdout",
          "text": [
            "tensor(12.)\n"
          ]
        }
      ]
    },
    {
      "cell_type": "code",
      "source": [
        "# Detaching from the graph\n",
        "\n",
        "detached_y = y.detach()\n",
        "w = detached_y * 3 # w won't be part of the computation graph."
      ],
      "metadata": {
        "id": "i6ntHqzhKFR5"
      },
      "execution_count": 31,
      "outputs": []
    },
    {
      "cell_type": "code",
      "source": [
        "# Create a tensor and enable tracking\n",
        "\n",
        "x = torch.tensor([2.0, 3.0], requires_grad=True)\n",
        "print(x.requires_grad)  # Outputs: True"
      ],
      "metadata": {
        "colab": {
          "base_uri": "https://localhost:8080/"
        },
        "id": "mvpnzPz6KLC4",
        "outputId": "ca78d2a1-6029-406a-f621-9434da91d150"
      },
      "execution_count": 32,
      "outputs": [
        {
          "output_type": "stream",
          "name": "stdout",
          "text": [
            "True\n"
          ]
        }
      ]
    },
    {
      "cell_type": "code",
      "source": [
        "# The Computation Graph and `.backward()`\n",
        "\n",
        "# Compute Gradient\n",
        "x = torch.tensor([2.0, 3.0], requires_grad=True)\n",
        "y = x * 2\n",
        "z = y.mean()\n",
        "z.backward()  # Compute gradients\n",
        "print(x.grad)  # Outputs: tensor([2., 2.])"
      ],
      "metadata": {
        "colab": {
          "base_uri": "https://localhost:8080/"
        },
        "id": "Sl-asn9RKQwq",
        "outputId": "b161897d-16b7-4e6d-dd70-5e8e8eae3589"
      },
      "execution_count": 33,
      "outputs": [
        {
          "output_type": "stream",
          "name": "stdout",
          "text": [
            "tensor([1., 1.])\n"
          ]
        }
      ]
    },
    {
      "cell_type": "code",
      "source": [
        "# Accumulating Gradients\n",
        "\n",
        "y = x * 2\n",
        "y.backward(torch.tensor([1.0, 1.0]))  # Using a vector for gradient scaling\n",
        "print(x.grad)  # Outputs: tensor([2., 2.])\n",
        "\n",
        "# Doing another operation\n",
        "y = x * 3\n",
        "y.backward(torch.tensor([1.0, 1.0]))\n",
        "print(x.grad)  # Outputs: tensor([5., 5.]) because gradients accumulate\n"
      ],
      "metadata": {
        "colab": {
          "base_uri": "https://localhost:8080/"
        },
        "id": "MyyNVkegKXDb",
        "outputId": "8b0b985a-7c8a-4b2e-81a7-ee02ca64ce69"
      },
      "execution_count": 34,
      "outputs": [
        {
          "output_type": "stream",
          "name": "stdout",
          "text": [
            "tensor([3., 3.])\n",
            "tensor([6., 6.])\n"
          ]
        }
      ]
    },
    {
      "cell_type": "code",
      "source": [
        "# Non-Scalar Backward Operations\n",
        "\n",
        "y = x * 2\n",
        "# This would raise an error since y is not a scalar:\n",
        "# y.backward()\n",
        "# Instead, use:\n",
        "y.backward(torch.tensor([1.0, 1.0]))\n"
      ],
      "metadata": {
        "id": "Md0mwWrfKac7"
      },
      "execution_count": 35,
      "outputs": []
    },
    {
      "cell_type": "code",
      "source": [
        "# Disable Gradient Tracking\n",
        "\n",
        "with torch.no_grad():\n",
        "    y = x * 2\n",
        "    print(y.requires_grad)  # Outputs: False\n"
      ],
      "metadata": {
        "colab": {
          "base_uri": "https://localhost:8080/"
        },
        "id": "NebUrl99Kdpr",
        "outputId": "8ae6d850-93b1-4e67-d480-3831220a4c09"
      },
      "execution_count": 36,
      "outputs": [
        {
          "output_type": "stream",
          "name": "stdout",
          "text": [
            "False\n"
          ]
        }
      ]
    },
    {
      "cell_type": "code",
      "source": [
        "# Detach\n",
        "y = x.detach()\n",
        "print(y.requires_grad)  # Outputs: False"
      ],
      "metadata": {
        "colab": {
          "base_uri": "https://localhost:8080/"
        },
        "id": "hHOFxEIGKgG8",
        "outputId": "e48c16c1-00c1-4d5b-f624-2522d9592a91"
      },
      "execution_count": 38,
      "outputs": [
        {
          "output_type": "stream",
          "name": "stdout",
          "text": [
            "False\n"
          ]
        }
      ]
    },
    {
      "cell_type": "code",
      "source": [
        "# Creating tensor from list\n",
        "import torch\n",
        "\n",
        "tensor_from_list = torch.tensor([1, 2, 3, 4])\n",
        "print(tensor_from_list)"
      ],
      "metadata": {
        "colab": {
          "base_uri": "https://localhost:8080/"
        },
        "id": "Ej6nvtV2KiMs",
        "outputId": "5f7131f6-6d39-467b-a038-c211738607e4"
      },
      "execution_count": 39,
      "outputs": [
        {
          "output_type": "stream",
          "name": "stdout",
          "text": [
            "tensor([1, 2, 3, 4])\n"
          ]
        }
      ]
    },
    {
      "cell_type": "code",
      "source": [
        "# Creating tensor from Numpy array\n",
        "import numpy as np\n",
        "import torch\n",
        "\n",
        "numpy_array = np.array([5, 6, 7, 8])\n",
        "tensor_from_np = torch.from_numpy(numpy_array)\n",
        "print(tensor_from_np)\n"
      ],
      "metadata": {
        "colab": {
          "base_uri": "https://localhost:8080/"
        },
        "id": "1oamkkmBMsJF",
        "outputId": "8200937a-32cc-460b-b68f-f1a9131e88e5"
      },
      "execution_count": 40,
      "outputs": [
        {
          "output_type": "stream",
          "name": "stdout",
          "text": [
            "tensor([5, 6, 7, 8])\n"
          ]
        }
      ]
    },
    {
      "cell_type": "code",
      "source": [
        "# Creating tensor with specific data types\n",
        "import torch\n",
        "\n",
        "tensor_float = torch.tensor([1, 2, 3, 4], dtype=torch.float32)\n",
        "print(tensor_float)\n"
      ],
      "metadata": {
        "colab": {
          "base_uri": "https://localhost:8080/"
        },
        "id": "1YwmPW0xMvVF",
        "outputId": "529c38ed-b5fc-4a67-b9c6-451cf0121574"
      },
      "execution_count": 41,
      "outputs": [
        {
          "output_type": "stream",
          "name": "stdout",
          "text": [
            "tensor([1., 2., 3., 4.])\n"
          ]
        }
      ]
    },
    {
      "cell_type": "code",
      "source": [
        "# Creating tensor with zeros and ones\n",
        "import torch\n",
        "\n",
        "tensor_zeros = torch.zeros(3, 3)\n",
        "tensor_ones = torch.ones(3, 3)\n",
        "tensor_range = torch.arange(0, 10, 2)\n",
        "print(tensor_zeros, tensor_ones, tensor_range)\n"
      ],
      "metadata": {
        "colab": {
          "base_uri": "https://localhost:8080/"
        },
        "id": "z9cjgCPCMyyF",
        "outputId": "d4f118f9-63c7-4e4b-a664-7a7cf4cfbe2a"
      },
      "execution_count": 42,
      "outputs": [
        {
          "output_type": "stream",
          "name": "stdout",
          "text": [
            "tensor([[0., 0., 0.],\n",
            "        [0., 0., 0.],\n",
            "        [0., 0., 0.]]) tensor([[1., 1., 1.],\n",
            "        [1., 1., 1.],\n",
            "        [1., 1., 1.]]) tensor([0, 2, 4, 6, 8])\n"
          ]
        }
      ]
    },
    {
      "cell_type": "code",
      "source": [
        "# Arithemetic operations\n",
        "\n",
        "x = torch.tensor([1, 2, 3, 4])\n",
        "y = torch.tensor([5, 6, 7, 8])\n",
        "\n",
        "sum_tensors = x + y\n",
        "product_tensors = x * y\n",
        "print(sum_tensors, product_tensors)\n"
      ],
      "metadata": {
        "colab": {
          "base_uri": "https://localhost:8080/"
        },
        "id": "e6hDVTv6Nb_j",
        "outputId": "1ccc80f2-e24f-442a-fe85-b0d5e13dae0f"
      },
      "execution_count": 47,
      "outputs": [
        {
          "output_type": "stream",
          "name": "stdout",
          "text": [
            "tensor([ 6,  8, 10, 12]) tensor([ 5, 12, 21, 32])\n"
          ]
        }
      ]
    },
    {
      "cell_type": "code",
      "source": [
        "# Matrix operations\n",
        "import torch\n",
        "\n",
        "x = torch.tensor([[1, 2], [3, 4]])\n",
        "y = torch.tensor([[5, 6], [7, 8]])\n",
        "\n",
        "matmul_result = torch.matmul(x, y)\n",
        "print(matmul_result)\n"
      ],
      "metadata": {
        "colab": {
          "base_uri": "https://localhost:8080/"
        },
        "id": "2tY0MbvbNit7",
        "outputId": "06f4cede-7a5c-4430-bf16-3dee13a86ac4"
      },
      "execution_count": 48,
      "outputs": [
        {
          "output_type": "stream",
          "name": "stdout",
          "text": [
            "tensor([[19, 22],\n",
            "        [43, 50]])\n"
          ]
        }
      ]
    },
    {
      "cell_type": "code",
      "source": [
        "# Reshape tensors\n",
        "import torch\n",
        "\n",
        "x = torch.arange(10)\n",
        "reshaped_tensor = x.view(2, 5)\n",
        "print(reshaped_tensor)\n",
        "\n",
        "reshaped_tensor_alt = x.reshape(5, 2)\n",
        "print(reshaped_tensor_alt)\n"
      ],
      "metadata": {
        "colab": {
          "base_uri": "https://localhost:8080/"
        },
        "id": "QFxZDCe8NlFT",
        "outputId": "53faef7f-dc6f-4aa1-d548-9bba6790094e"
      },
      "execution_count": 49,
      "outputs": [
        {
          "output_type": "stream",
          "name": "stdout",
          "text": [
            "tensor([[0, 1, 2, 3, 4],\n",
            "        [5, 6, 7, 8, 9]])\n",
            "tensor([[0, 1],\n",
            "        [2, 3],\n",
            "        [4, 5],\n",
            "        [6, 7],\n",
            "        [8, 9]])\n"
          ]
        }
      ]
    },
    {
      "cell_type": "code",
      "source": [
        "# Squeeze & Unsqueeze tensors\n",
        "import torch\n",
        "\n",
        "tensor = torch.tensor([[1, 2, 3]])\n",
        "squeezed_tensor = tensor.squeeze()\n",
        "print(squeezed_tensor.shape)\n",
        "\n",
        "unsqueeze_tensor = squeezed_tensor.unsqueeze(dim=0)\n",
        "print(unsqueeze_tensor.shape)\n"
      ],
      "metadata": {
        "id": "yQ9efzT6NoFr",
        "outputId": "2df99a1a-f2c8-4c31-fa3a-d82bc0f74ef5",
        "colab": {
          "base_uri": "https://localhost:8080/"
        }
      },
      "execution_count": 50,
      "outputs": [
        {
          "output_type": "stream",
          "name": "stdout",
          "text": [
            "torch.Size([3])\n",
            "torch.Size([1, 3])\n"
          ]
        }
      ]
    },
    {
      "cell_type": "code",
      "source": [
        "# Use CUDA\n",
        "\n",
        "device = torch.device(\"cuda\" if torch.cuda.is_available() else \"cpu\")\n",
        "x = x.to(device)\n",
        "print(x.device)\n"
      ],
      "metadata": {
        "id": "EKMBnGlNNrqY",
        "outputId": "04b019c7-c6ed-46a4-a942-f1387b927d24",
        "colab": {
          "base_uri": "https://localhost:8080/"
        }
      },
      "execution_count": 51,
      "outputs": [
        {
          "output_type": "stream",
          "name": "stdout",
          "text": [
            "cuda:0\n"
          ]
        }
      ]
    },
    {
      "cell_type": "code",
      "source": [
        "# Indexing\n",
        "import torch\n",
        "\n",
        "x = torch.tensor([0, 1, 2, 3, 4])\n",
        "print(x[2])\n"
      ],
      "metadata": {
        "colab": {
          "base_uri": "https://localhost:8080/"
        },
        "id": "lH9ZaLh9NOtH",
        "outputId": "c583b251-6223-457f-82d6-26683b78b158"
      },
      "execution_count": 43,
      "outputs": [
        {
          "output_type": "stream",
          "name": "stdout",
          "text": [
            "tensor(2)\n"
          ]
        }
      ]
    },
    {
      "cell_type": "code",
      "source": [
        "# Slicing\n",
        "import torch\n",
        "\n",
        "print(x[1:4])\n"
      ],
      "metadata": {
        "colab": {
          "base_uri": "https://localhost:8080/"
        },
        "id": "qXI38JVDNVjX",
        "outputId": "e92f76e1-8bad-451b-944d-77341955959a"
      },
      "execution_count": 44,
      "outputs": [
        {
          "output_type": "stream",
          "name": "stdout",
          "text": [
            "tensor([1, 2, 3])\n"
          ]
        }
      ]
    },
    {
      "cell_type": "code",
      "source": [
        "# Concatenating\n",
        "import torch\n",
        "\n",
        "y = torch.tensor([5, 6, 7, 8, 9])\n",
        "concatenated = torch.cat((x, y))\n",
        "print(concatenated)\n"
      ],
      "metadata": {
        "colab": {
          "base_uri": "https://localhost:8080/"
        },
        "id": "xRdeTK8oNW5H",
        "outputId": "401a1d42-a3bb-41c7-e11e-34221490ea42"
      },
      "execution_count": 45,
      "outputs": [
        {
          "output_type": "stream",
          "name": "stdout",
          "text": [
            "tensor([0, 1, 2, 3, 4, 5, 6, 7, 8, 9])\n"
          ]
        }
      ]
    },
    {
      "cell_type": "code",
      "source": [
        "# Cloning\n",
        "import torch\n",
        "\n",
        "y = x.clone()\n",
        "y[0] = 100\n",
        "print(x, y)\n"
      ],
      "metadata": {
        "colab": {
          "base_uri": "https://localhost:8080/"
        },
        "id": "tpb3j5P_NYVY",
        "outputId": "0eb6503c-1b97-4b5a-a721-e1465526b058"
      },
      "execution_count": 46,
      "outputs": [
        {
          "output_type": "stream",
          "name": "stdout",
          "text": [
            "tensor([0, 1, 2, 3, 4]) tensor([100,   1,   2,   3,   4])\n"
          ]
        }
      ]
    },
    {
      "cell_type": "code",
      "source": [],
      "metadata": {
        "id": "-JvEFb0hNZjo"
      },
      "execution_count": null,
      "outputs": []
    }
  ]
}